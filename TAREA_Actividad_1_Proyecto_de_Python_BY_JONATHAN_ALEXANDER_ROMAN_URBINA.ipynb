{
  "nbformat": 4,
  "nbformat_minor": 0,
  "metadata": {
    "colab": {
      "private_outputs": true,
      "provenance": []
    },
    "kernelspec": {
      "name": "python3",
      "display_name": "Python 3"
    },
    "language_info": {
      "name": "python"
    }
  },
  "cells": [
    {
      "cell_type": "markdown",
      "source": [
        "Steam Store Games (Clean dataset)"
      ],
      "metadata": {
        "id": "K1rK2Wh2yrAX"
      }
    },
    {
      "cell_type": "markdown",
      "source": [
        "Carga de todos los archivos en Google Colab"
      ],
      "metadata": {
        "id": "UBoU6L7K0UMr"
      }
    },
    {
      "cell_type": "code",
      "execution_count": null,
      "metadata": {
        "id": "ihv88ftLuA8p"
      },
      "outputs": [],
      "source": [
        "import csv\n",
        "\n",
        "input_file = \"steam_description_data.csv\"\n",
        "output_file = \"steam_description_fixed.csv\"\n",
        "\n",
        "with open(input_file, \"r\", encoding=\"utf-8\") as infile, open(output_file, \"w\", encoding=\"utf-8\", newline='') as outfile:\n",
        "    reader = csv.reader(infile)\n",
        "    writer = csv.writer(outfile)\n",
        "    bad_rows = 0\n",
        "    for idx, row in enumerate(reader):\n",
        "        try:\n",
        "            writer.writerow(row)\n",
        "        except Exception as e:\n",
        "            print(f\"Fila problemática omitida en #{idx + 1}: {row}\")\n",
        "            bad_rows += 1\n",
        "\n",
        "print(f\"¡Listo! Se omitieron {bad_rows} filas problemáticas.\")"
      ]
    },
    {
      "cell_type": "markdown",
      "source": [
        "1. Limpieza de df_main"
      ],
      "metadata": {
        "id": "FNvmQam70Z4D"
      }
    },
    {
      "cell_type": "code",
      "source": [
        "# Copia del dataframe original para mantener una versión limpia\n",
        "df = df_main.copy()\n",
        "\n",
        "# Mostrar estructura inicial\n",
        "print(\"Resumen inicial:\")\n",
        "print(df.info())\n",
        "print(df.head())"
      ],
      "metadata": {
        "id": "s0_HM0BVyjg3"
      },
      "execution_count": null,
      "outputs": []
    },
    {
      "cell_type": "markdown",
      "source": [
        "Revisión de columnas"
      ],
      "metadata": {
        "id": "W-bjdJQ40eTq"
      }
    },
    {
      "cell_type": "code",
      "source": [
        "# Eliminar columnas que no aportan al análisis\n",
        "columnas_a_eliminar = [\n",
        "    \"url\", \"reviews_url\", \"support_url\", \"store_url\",\n",
        "    \"header_image\", \"website\", \"support_email\"\n",
        "]\n",
        "\n",
        "df.drop(columns=columnas_a_eliminar, inplace=True, errors='ignore')\n",
        "\n",
        "# Mostrar las columnas restantes\n",
        "print(\"\\nColumnas después de eliminar:\")\n",
        "print(df.columns)"
      ],
      "metadata": {
        "id": "UwW3UnD2zade"
      },
      "execution_count": null,
      "outputs": []
    },
    {
      "cell_type": "markdown",
      "source": [
        "Manejo de valores nulos"
      ],
      "metadata": {
        "id": "XpYg5iiz0jSK"
      }
    },
    {
      "cell_type": "code",
      "source": [
        "# Revisar nulos por columna\n",
        "print(\"\\nValores nulos:\")\n",
        "print(df.isnull().sum())\n",
        "\n",
        "# Eliminar filas con valores nulos en columnas clave\n",
        "df = df.dropna(subset=[\"name\", \"release_date\", \"price\", \"categories\", \"genres\"])\n",
        "\n",
        "# Convertir fecha y precio a tipos correctos\n",
        "df[\"release_date\"] = pd.to_datetime(df[\"release_date\"], errors='coerce')\n",
        "df[\"price\"] = pd.to_numeric(df[\"price\"], errors='coerce')\n",
        "\n",
        "# Eliminar juegos sin fecha válida o con precio negativo\n",
        "df = df[df[\"release_date\"].notnull() & (df[\"price\"] >= 0)]\n",
        "\n",
        "# Añadir columna de año\n",
        "df[\"release_year\"] = df[\"release_date\"].dt.year\n",
        "\n",
        "# Resultado final de limpieza\n",
        "print(\"\\nDespués de limpiar:\")\n",
        "print(df.info())"
      ],
      "metadata": {
        "id": "QTVl_GO6zb2M"
      },
      "execution_count": null,
      "outputs": []
    },
    {
      "cell_type": "markdown",
      "source": [
        "2. Análisis Exploratorio de Datos (EDA)\n",
        "\n",
        "📊 Estadísticas generales"
      ],
      "metadata": {
        "id": "Os9LQmCM0wlq"
      }
    },
    {
      "cell_type": "code",
      "source": [
        "# Estadísticas numéricas\n",
        "print(df.describe())\n",
        "\n",
        "# Número de juegos por año\n",
        "print(\"\\nJuegos por año:\")\n",
        "print(df[\"release_year\"].value_counts().sort_index())"
      ],
      "metadata": {
        "id": "NtRhK9Jgzhj0"
      },
      "execution_count": null,
      "outputs": []
    },
    {
      "cell_type": "markdown",
      "source": [
        "Análisis de géneros"
      ],
      "metadata": {
        "id": "dKf4PoPe032i"
      }
    },
    {
      "cell_type": "code",
      "source": [
        "# Dividir géneros por coma y contar\n",
        "from collections import Counter\n",
        "\n",
        "generos_split = df[\"genres\"].dropna().apply(lambda x: x.split(\", \"))\n",
        "generos_flat = [g for sublist in generos_split for g in sublist]\n",
        "conteo_generos = pd.Series(Counter(generos_flat)).sort_values(ascending=False)\n",
        "\n",
        "print(\"\\nTop 10 géneros:\")\n",
        "print(conteo_generos.head(10))"
      ],
      "metadata": {
        "id": "DddlwMdrz3Db"
      },
      "execution_count": null,
      "outputs": []
    },
    {
      "cell_type": "markdown",
      "source": [
        "Visualizaciones"
      ],
      "metadata": {
        "id": "Chy-vgN907mR"
      }
    },
    {
      "cell_type": "code",
      "source": [
        "import matplotlib.pyplot as plt\n",
        "import seaborn as sns\n",
        "\n",
        "# Histograma de precios\n",
        "plt.figure(figsize=(10,6))\n",
        "df[\"price\"].hist(bins=50, color=\"skyblue\")\n",
        "plt.title(\"Distribución de precios de juegos en Steam\")\n",
        "plt.xlabel(\"Precio (USD)\")\n",
        "plt.ylabel(\"Número de juegos\")\n",
        "plt.show()\n",
        "\n",
        "# Juegos lanzados por año\n",
        "plt.figure(figsize=(12,6))\n",
        "df[\"release_year\"].value_counts().sort_index().plot(kind=\"bar\", color=\"orange\")\n",
        "plt.title(\"Juegos lanzados por año\")\n",
        "plt.xlabel(\"Año\")\n",
        "plt.ylabel(\"Cantidad de juegos\")\n",
        "plt.show()\n",
        "\n",
        "# Gráfico de barras de géneros\n",
        "plt.figure(figsize=(12,6))\n",
        "conteo_generos.head(10).plot(kind=\"bar\", color=\"teal\")\n",
        "plt.title(\"Top 10 géneros más comunes\")\n",
        "plt.xlabel(\"Género\")\n",
        "plt.ylabel(\"Número de juegos\")\n",
        "plt.show()"
      ],
      "metadata": {
        "id": "6E43DHY80Ez7"
      },
      "execution_count": null,
      "outputs": []
    },
    {
      "cell_type": "markdown",
      "source": [
        "1. Cargar y limpiar steam.csv"
      ],
      "metadata": {
        "id": "aLpXYUFa9GDA"
      }
    },
    {
      "cell_type": "code",
      "source": [
        "import pandas as pd\n",
        "import matplotlib.pyplot as plt\n",
        "import seaborn as sns\n",
        "from collections import Counter\n",
        "\n",
        "# Cargar datos\n",
        "df = pd.read_csv(\"steam.csv\")\n",
        "\n",
        "# Eliminar columnas innecesarias\n",
        "columnas_a_eliminar = [\n",
        "    \"url\", \"reviews_url\", \"support_url\", \"store_url\",\n",
        "    \"header_image\", \"website\", \"support_email\"\n",
        "]\n",
        "df.drop(columns=columnas_a_eliminar, inplace=True, errors=\"ignore\")\n",
        "\n",
        "# Limpieza básica\n",
        "df = df.dropna(subset=[\"name\", \"release_date\", \"price\", \"categories\", \"genres\"])\n",
        "df[\"release_date\"] = pd.to_datetime(df[\"release_date\"], errors='coerce')\n",
        "df[\"price\"] = pd.to_numeric(df[\"price\"], errors='coerce')\n",
        "df = df[df[\"release_date\"].notnull() & (df[\"price\"] >= 0)]\n",
        "df[\"release_year\"] = df[\"release_date\"].dt.year"
      ],
      "metadata": {
        "id": "i5BT59N29JyJ"
      },
      "execution_count": null,
      "outputs": []
    },
    {
      "cell_type": "markdown",
      "source": [
        "2. EDA y visualizaciones"
      ],
      "metadata": {
        "id": "reQLpftG9Ln2"
      }
    },
    {
      "cell_type": "code",
      "source": [
        "# Estadísticas\n",
        "print(df.describe())\n",
        "\n",
        "# Conteo de juegos por año\n",
        "juegos_por_anio = df[\"release_year\"].value_counts().sort_index()\n",
        "\n",
        "# Conteo de géneros\n",
        "generos_split = df[\"genres\"].apply(lambda x: x.split(\", \"))\n",
        "generos_flat = [g for sublist in generos_split for g in sublist]\n",
        "conteo_generos = pd.Series(Counter(generos_flat)).sort_values(ascending=False)"
      ],
      "metadata": {
        "id": "Cs1bwzBF9MEu"
      },
      "execution_count": null,
      "outputs": []
    },
    {
      "cell_type": "markdown",
      "source": [
        "Gráficos"
      ],
      "metadata": {
        "id": "fZzi1G5Q9Rs-"
      }
    },
    {
      "cell_type": "code",
      "source": [
        "# Histograma de precios\n",
        "plt.figure(figsize=(10,5))\n",
        "df[\"price\"].hist(bins=50, color='skyblue')\n",
        "plt.title(\"Distribución de precios de juegos en Steam\")\n",
        "plt.xlabel(\"Precio (USD)\")\n",
        "plt.ylabel(\"Número de juegos\")\n",
        "plt.show()\n",
        "\n",
        "# Juegos lanzados por año\n",
        "plt.figure(figsize=(12,5))\n",
        "juegos_por_anio.plot(kind=\"bar\", color=\"orange\")\n",
        "plt.title(\"Número de juegos lanzados por año\")\n",
        "plt.xlabel(\"Año\")\n",
        "plt.ylabel(\"Cantidad\")\n",
        "plt.show()\n",
        "\n",
        "# Top 10 géneros\n",
        "plt.figure(figsize=(10,5))\n",
        "conteo_generos.head(10).plot(kind=\"bar\", color=\"teal\")\n",
        "plt.title(\"Top 10 géneros más comunes en Steam\")\n",
        "plt.xlabel(\"Género\")\n",
        "plt.ylabel(\"Frecuencia\")\n",
        "plt.show()"
      ],
      "metadata": {
        "id": "Po6JL2ja9STm"
      },
      "execution_count": null,
      "outputs": []
    },
    {
      "cell_type": "markdown",
      "source": [
        "3. Unión con steamspy_tag_data.csv"
      ],
      "metadata": {
        "id": "Js0qJftZ9Zq-"
      }
    },
    {
      "cell_type": "code",
      "source": [
        "print(df_tags.columns)\n",
        "print(df_tags.head())"
      ],
      "metadata": {
        "id": "Tb0J7ZP8Bj40"
      },
      "execution_count": null,
      "outputs": []
    },
    {
      "cell_type": "code",
      "source": [
        "columnas_usar = []\n",
        "for nombre in [\"name\", \"release_year\", \"price\", \"Action\", \"Adventure\", \"Indie\"]:\n",
        "    if nombre in df_merged.columns:\n",
        "        columnas_usar.append(nombre)\n",
        "\n",
        "print(df_merged[columnas_usar].head())"
      ],
      "metadata": {
        "id": "o1Si1PiCBow8"
      },
      "execution_count": null,
      "outputs": []
    },
    {
      "cell_type": "code",
      "source": [
        "for col in df_tags.columns:\n",
        "    print(col)"
      ],
      "metadata": {
        "id": "1qpcFFO4CU5a"
      },
      "execution_count": null,
      "outputs": []
    },
    {
      "cell_type": "code",
      "source": [
        "relevantes = [col for col in df_tags.columns if any(tag in col.lower() for tag in [\"action\", \"adventure\", \"indie\"])]\n",
        "print(\"Columnas relevantes encontradas:\", relevantes)"
      ],
      "metadata": {
        "id": "o6sIZPfVCY6C"
      },
      "execution_count": null,
      "outputs": []
    },
    {
      "cell_type": "code",
      "source": [
        "print(df_merged[[\"name\", \"release_year\", \"price\", \"action\", \"adventure\", \"indie\"]].head())"
      ],
      "metadata": {
        "id": "0UmWnkcICjA6"
      },
      "execution_count": null,
      "outputs": []
    },
    {
      "cell_type": "code",
      "source": [
        "# Juegos que SÍ tienen la tag de acción en cualquier cantidad\n",
        "accion_por_anio = df_merged[df_merged[accion_col] > 0][\"release_year\"].value_counts().sort_index()"
      ],
      "metadata": {
        "id": "fb9hTMjMC2FS"
      },
      "execution_count": null,
      "outputs": []
    },
    {
      "cell_type": "code",
      "source": [
        "accion_col = 'action'  # Ya detectado como relevante\n",
        "accion_por_anio = df_merged[df_merged[accion_col] > 0][\"release_year\"].value_counts().sort_index()\n",
        "\n",
        "import matplotlib.pyplot as plt\n",
        "plt.figure(figsize=(12,5))\n",
        "accion_por_anio.plot(kind=\"bar\", color=\"crimson\")\n",
        "plt.title(\"Juegos de Acción lanzados por año\")\n",
        "plt.xlabel(\"Año\")\n",
        "plt.ylabel(\"Cantidad\")\n",
        "plt.show()"
      ],
      "metadata": {
        "id": "9l49xeAPBfgG"
      },
      "execution_count": null,
      "outputs": []
    },
    {
      "cell_type": "markdown",
      "source": [
        "4. Conclusiones clave\n",
        "\n",
        "# Conclusiones\n",
        "\n",
        "- La mayoría de los juegos en Steam tienen precios entre $0 y $20.\n",
        "- Los años con más lanzamientos fueron 2017 y 2018.\n",
        "- Los géneros más frecuentes son: **Action**, **Indie**, y **Adventure**.\n",
        "- Los juegos de tipo Acción han tenido un crecimiento significativo desde 2014.\n",
        "- El dataset fusionado con tags nos permite hacer análisis por popularidad de género."
      ],
      "metadata": {
        "id": "O7_j5JKp-s1j"
      }
    },
    {
      "cell_type": "markdown",
      "source": [
        "5. README.md para GitHub\n",
        "markdown\n",
        "Copiar\n",
        "Editar\n",
        "# 🎮 Análisis de Juegos en Steam\n",
        "\n",
        "Este proyecto analiza datos de más de 25,000 videojuegos publicados en Steam. Se utilizaron múltiples archivos CSV para obtener una visión completa del ecosistema de juegos, precios, géneros y tendencias.\n",
        "\n",
        "## Archivos utilizados\n",
        "\n",
        "- `steam.csv` (datos principales de cada juego)\n",
        "- `steamspy_tag_data.csv` (tags como Action, Indie, etc.)\n",
        "- Otros archivos para futura expansión: descripciones, requisitos, soporte.\n",
        "\n",
        "## Análisis realizado\n",
        "\n",
        "- Limpieza y transformación de datos\n",
        "- Análisis exploratorio de precios, años de lanzamiento y géneros\n",
        "- Visualización de datos con Matplotlib y Seaborn\n",
        "- Unión con tags populares por género\n",
        "\n",
        "## Resultados destacados\n",
        "\n",
        "- Género más común: **Action**\n",
        "- La mayoría de los juegos cuestan entre $0 y $20\n",
        "- Gran cantidad de lanzamientos a partir de 2014\n",
        "- Crecimiento constante de juegos Indie\n",
        "\n",
        "## Herramientas\n",
        "\n",
        "- Python 3.10\n",
        "- Pandas, Matplotlib, Seaborn\n",
        "- Google Colab\n",
        "\n",
        "## Conclusión\n",
        "\n",
        "Steam es una plataforma diversa con fuerte presencia de juegos Indie y de bajo precio. El análisis de tags muestra la evolución de géneros como Acción y Aventura, y la alta concentración de lanzamientos desde 2014 en adelante."
      ],
      "metadata": {
        "id": "q0MuqETf-1tD"
      }
    }
  ]
}